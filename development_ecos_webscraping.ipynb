{
 "cells": [
  {
   "cell_type": "code",
   "execution_count": 1,
   "metadata": {},
   "outputs": [],
   "source": [
    "from lxml import html\n",
    "import requests\n",
    "address = \"https://mru.org\""
   ]
  },
  {
   "cell_type": "code",
   "execution_count": 2,
   "metadata": {},
   "outputs": [],
   "source": [
    "page = requests.get('https://mru.org/courses/development-economics/basic-facts-growth-and-development')\n",
    "tree = html.fromstring(page.content)"
   ]
  },
  {
   "cell_type": "code",
   "execution_count": 3,
   "metadata": {},
   "outputs": [],
   "source": [
    "lesson_links = []\n",
    "lessons = tree.xpath('//div[@class=\"lesson__video-title\"]/a[@href]') \n",
    "\n",
    "for link in lessons:\n",
    "    lesson_links.append(address + link.attrib['href'])"
   ]
  },
  {
   "cell_type": "code",
   "execution_count": 4,
   "metadata": {
    "scrolled": true
   },
   "outputs": [
    {
     "data": {
      "text/plain": [
       "(269, 269)"
      ]
     },
     "execution_count": 4,
     "metadata": {},
     "output_type": "execute_result"
    }
   ],
   "source": [
    "lesson_elements = tree.xpath('//div[@class=\"lesson__video-title\"]')\n",
    "len(lesson_elements), len(lesson_links)"
   ]
  },
  {
   "cell_type": "code",
   "execution_count": 5,
   "metadata": {},
   "outputs": [
    {
     "name": "stdout",
     "output_type": "stream",
     "text": [
      "269 269\n"
     ]
    }
   ],
   "source": [
    "titles = []\n",
    "for element in lesson_elements:\n",
    "    titles.append(element.getparent().getparent().getparent().getchildren()[0].getchildren()[0].text)\n",
    "#print(titles)\n",
    "print(len(titles), len(lesson_links))"
   ]
  },
  {
   "cell_type": "code",
   "execution_count": 6,
   "metadata": {},
   "outputs": [
    {
     "name": "stdout",
     "output_type": "stream",
     "text": [
      "https://mru.org/courses/development-economics/finance-law-and-trust-mexico   --- didn't work\n"
     ]
    }
   ],
   "source": [
    "# loop through all the links\n",
    "links = []\n",
    "for j, lesson_link in enumerate(lesson_links):\n",
    "    try:\n",
    "        page = requests.get(lesson_link)\n",
    "        tree = html.fromstring(page.content)\n",
    "        section = lesson_link[46:]\n",
    "        \n",
    "        related_links = tree.xpath('//div[@class=\"related__links\"]//a[@href]')\n",
    "        related_links_names = tree.xpath('//div[@class=\"related__links\"]//a[@href]/text()')\n",
    "        for i, link in enumerate(related_links):\n",
    "            links.append((titles[j], section, link.attrib['href'], related_links_names[i]))\n",
    "        \n",
    "        #print(lesson_link + \"---  sussed\")\n",
    "    except:\n",
    "        print(lesson_link+\"   --- didn't work\")"
   ]
  },
  {
   "cell_type": "code",
   "execution_count": 7,
   "metadata": {},
   "outputs": [
    {
     "name": "stdout",
     "output_type": "stream",
     "text": [
      "the error from the previous code block is not a problem as the link is broken\n"
     ]
    }
   ],
   "source": [
    "\"\"\"\n",
    "page = requests.get('https://mru.org/courses/development-economics/finance-law-and-trust-mexico')\n",
    "tree = html.fromstring(page.content) \n",
    "section = lesson_link[46:]\n",
    "\n",
    "related_links = tree.xpath('//div[@class=\"related__links\"]//a[@href]')\n",
    "related_links_names = tree.xpath('//div[@class=\"related__links\"]//a[@href]/text()')\n",
    "related_links[0].attrib['href']\n",
    "\"\"\"\n",
    "print('the error from the previous code block is not a problem as the link is broken')"
   ]
  },
  {
   "cell_type": "code",
   "execution_count": 8,
   "metadata": {},
   "outputs": [],
   "source": [
    "prev_title = ''\n",
    "prev_section = ''\n",
    "text = ''\n",
    "for title, section, link, heading in links:\n",
    "    if prev_title != title:\n",
    "        text += '\\n\\n' + title + '\\n\\n'\n",
    "    if prev_section != section:\n",
    "        text += '\\n\\n' + section + '\\n\\n'\n",
    "    text += heading + \"  ---->  \" +  link + '\\n'\n",
    "    \n",
    "    prev_title = title\n",
    "    prev_section = section\n",
    "#print(text)"
   ]
  },
  {
   "cell_type": "code",
   "execution_count": 9,
   "metadata": {
    "scrolled": false
   },
   "outputs": [],
   "source": [
    "prev_title = ''\n",
    "prev_section = ''\n",
    "text_formatted = '# Development Economics Marginal Revolution Course Links'\n",
    "for title, section, link, heading in links:\n",
    "    if prev_title != title:\n",
    "        if prev_title != '':\n",
    "            text_formatted += '\\n </details> \\n'\n",
    "        text_formatted += '\\n\\n' + '## ' + title + '\\n\\n' + \"<details> \\n   <summary>Click to expand!</summary>\"\n",
    "    if prev_section != section:\n",
    "        text_formatted += '\\n\\n' + '### ' + section + '\\n\\n'\n",
    "    text_formatted += '- ' + heading + \"  ---->  \" +  link + '\\n'\n",
    "    \n",
    "    prev_section = section\n",
    "    prev_title = title\n",
    "#print(text_formatted)"
   ]
  },
  {
   "cell_type": "code",
   "execution_count": 10,
   "metadata": {},
   "outputs": [
    {
     "data": {
      "text/plain": [
       "117620"
      ]
     },
     "execution_count": 10,
     "metadata": {},
     "output_type": "execute_result"
    }
   ],
   "source": [
    "#file = open(\"dev_ecos_resources.txt\", \"w\")\n",
    "#file.write(text)\n",
    "file = open(\"README.md\", \"w\")\n",
    "file.write(text_formatted)"
   ]
  },
  {
   "cell_type": "code",
   "execution_count": null,
   "metadata": {},
   "outputs": [],
   "source": []
  }
 ],
 "metadata": {
  "kernelspec": {
   "display_name": "Python 3",
   "language": "python",
   "name": "python3"
  },
  "language_info": {
   "codemirror_mode": {
    "name": "ipython",
    "version": 3
   },
   "file_extension": ".py",
   "mimetype": "text/x-python",
   "name": "python",
   "nbconvert_exporter": "python",
   "pygments_lexer": "ipython3",
   "version": "3.8.1"
  }
 },
 "nbformat": 4,
 "nbformat_minor": 4
}
